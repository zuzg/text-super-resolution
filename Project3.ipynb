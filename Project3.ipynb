{
 "cells": [
  {
   "attachments": {},
   "cell_type": "markdown",
   "metadata": {},
   "source": [
    "# 📝 Text super-resolution\n",
    "* team name and members: Super-girls, **Agata Żywot 148258, Zuzanna Gawrysiak 148255**\n",
    "* selected problem and dataset: Super-resolution, [TextZoom](https://paperswithcode.com/dataset/textzoom)"
   ]
  },
  {
   "cell_type": "code",
   "execution_count": 4,
   "metadata": {},
   "outputs": [
    {
     "name": "stdout",
     "output_type": "stream",
     "text": [
      "Using torch 1.12.1\n"
     ]
    }
   ],
   "source": [
    "import cv2\n",
    "import PIL\n",
    "import numpy as np\n",
    "from IPython.display import display\n",
    "import sys\n",
    "if '../' not in sys.path:\n",
    "    sys.path.append('../')\n",
    "import random\n",
    "\n",
    "import torch\n",
    "import torchvision.datasets as dset\n",
    "import torchvision.transforms as transforms\n",
    "import torch.nn as nn\n",
    "import torch.nn.functional as F\n",
    "import torch.optim as optim\n",
    "\n",
    "# why is there 2 in the filename?\n",
    "from src.mdb_to_jpg2 import mdb_to_jpg\n",
    "from src.utils import imshow\n",
    "from src.data import get_data_from_dir"
   ]
  },
  {
   "cell_type": "code",
   "execution_count": 11,
   "metadata": {},
   "outputs": [
    {
     "name": "stdout",
     "output_type": "stream",
     "text": [
      "Using torch 1.12.1 on cuda\n"
     ]
    }
   ],
   "source": [
    "torch.manual_seed(8)\n",
    "random.seed(8)\n",
    "\n",
    "if torch.cuda.is_available():\n",
    "    torch.cuda.manual_seed(42)\n",
    "    torch.cuda.manual_seed_all(42)\n",
    "    torch.backends.cudnn.deterministic = True\n",
    "    torch.backends.cudnn.benchmark = False\n",
    "    device = torch.device(\"cuda\") \n",
    "else:\n",
    "    device = torch.device(\"cpu\")\n",
    "\n",
    "print(f\"Using torch { torch.__version__} on {device}\")"
   ]
  },
  {
   "attachments": {},
   "cell_type": "markdown",
   "metadata": {},
   "source": [
    "## Dataset"
   ]
  },
  {
   "attachments": {},
   "cell_type": "markdown",
   "metadata": {},
   "source": [
    "### Description\n",
    "TODO"
   ]
  },
  {
   "cell_type": "code",
   "execution_count": 13,
   "metadata": {},
   "outputs": [
    {
     "name": "stdout",
     "output_type": "stream",
     "text": [
      "Number of samples: 2794\n"
     ]
    }
   ],
   "source": [
    "# TODO change for train1 at the end since it's > 10000\n",
    "data_path = 'data/TextZoom/train2_img/'\n",
    "lmdb_file = 'data/TextZoom/train2'\n",
    "N = mdb_to_jpg(data_path, lmdb_file)"
   ]
  },
  {
   "cell_type": "code",
   "execution_count": 7,
   "metadata": {},
   "outputs": [
    {
     "data": {
      "image/png": "[encoded data removed]",
      "text/plain": [
       "<PIL.Image.Image image mode=RGB size=216x40>"
      ]
     },
     "metadata": {},
     "output_type": "display_data"
    }
   ],
   "source": [
    "# DISPLAY EXEMPLARY IMAGES\n",
    "def show_LR_HR_images(imgLR, imgHR): # move to src/data?\n",
    "    if imgHR.shape == imgLR.shape:\n",
    "        imshow(cv2.resize(np.concatenate([imgLR, imgHR], 1), None, fx=2, fy=2))\n",
    "    else:\n",
    "        imshow(cv2.resize(imgLR, None, fx=2, fy=2))\n",
    "        imshow(cv2.resize(imgHR, None, fx=2, fy=2))\n",
    "\n",
    "x = 10\n",
    "imgHR = cv2.imread(data_path+str(x)+'_img_HR.jpg', 1)\n",
    "imgLR = cv2.imread(data_path+str(x)+'_img_LR.jpg', 1)\n",
    "show_LR_HR_images(imgLR, imgHR)\n"
   ]
  },
  {
   "cell_type": "code",
   "execution_count": 9,
   "metadata": {},
   "outputs": [
    {
     "data": {
      "image/png": "[encoded data removed]",
      "text/plain": [
       "<PIL.Image.Image image mode=RGB size=200x44>"
      ]
     },
     "metadata": {},
     "output_type": "display_data"
    }
   ],
   "source": [
    "# GET HR AND LR images\n",
    "data = get_data_from_dir(data_path, [str(i) for i in range(1, N+1)])\n",
    "x = 1234\n",
    "show_LR_HR_images(data[x][0], data[x][1])"
   ]
  },
  {
   "attachments": {},
   "cell_type": "markdown",
   "metadata": {},
   "source": [
    "## Models"
   ]
  },
  {
   "cell_type": "code",
   "execution_count": 10,
   "metadata": {},
   "outputs": [],
   "source": [
    "# train i koniec :))\n",
    "BATCH_SIZE = 32\n",
    "\n",
    "train_loader = torch.utils.data.DataLoader(data, batch_size=BATCH_SIZE)\n",
    "# test_loader = torch.utils.data.DataLoader(test_data, batch_size=BATCH_SIZE)"
   ]
  }
 ],
 "metadata": {
  "kernelspec": {
   "display_name": "dl",
   "language": "python",
   "name": "python3"
  },
  "language_info": {
   "codemirror_mode": {
    "name": "ipython",
    "version": 3
   },
   "file_extension": ".py",
   "mimetype": "text/x-python",
   "name": "python",
   "nbconvert_exporter": "python",
   "pygments_lexer": "ipython3",
   "version": "3.10.0"
  },
  "orig_nbformat": 4,
  "vscode": {
   "interpreter": {
    "hash": "803da01239e4c19ca89c0112e640de8d9b892b37194f3ed6b558e46ae291f2c7"
   }
  }
 },
 "nbformat": 4,
 "nbformat_minor": 2
}
