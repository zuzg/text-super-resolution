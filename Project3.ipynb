{
 "cells": [
  {
   "attachments": {},
   "cell_type": "markdown",
   "metadata": {},
   "source": [
    "# Text super resolution"
   ]
  },
  {
   "cell_type": "code",
   "execution_count": 2,
   "metadata": {},
   "outputs": [],
   "source": [
    "from src.mdb_to_jpg2 import *"
   ]
  },
  {
   "cell_type": "code",
   "execution_count": 4,
   "metadata": {},
   "outputs": [
    {
     "name": "stdout",
     "output_type": "stream",
     "text": [
      "14573\n"
     ]
    }
   ],
   "source": [
    "savepath = 'data/TextZoom/train1_img/'\n",
    "lmdb_file = 'data/TextZoom/train1'\n",
    "mdb_to_jpg(savepath, lmdb_file)"
   ]
  }
 ],
 "metadata": {
  "kernelspec": {
   "display_name": "drug-screening",
   "language": "python",
   "name": "python3"
  },
  "language_info": {
   "codemirror_mode": {
    "name": "ipython",
    "version": 3
   },
   "file_extension": ".py",
   "mimetype": "text/x-python",
   "name": "python",
   "nbconvert_exporter": "python",
   "pygments_lexer": "ipython3",
   "version": "3.10.6"
  },
  "orig_nbformat": 4,
  "vscode": {
   "interpreter": {
    "hash": "522ded54ab1c465be80e59d264affd360bc75036ac83cd640691d7027d6858f1"
   }
  }
 },
 "nbformat": 4,
 "nbformat_minor": 2
}
